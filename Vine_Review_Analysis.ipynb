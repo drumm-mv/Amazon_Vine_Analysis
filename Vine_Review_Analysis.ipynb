{
  "nbformat": 4,
  "nbformat_minor": 0,
  "metadata": {
    "colab": {
      "provenance": [],
      "collapsed_sections": []
    },
    "kernelspec": {
      "name": "python3",
      "display_name": "Python 3"
    },
    "language_info": {
      "name": "python"
    }
  },
  "cells": [
    {
      "cell_type": "code",
      "execution_count": 1,
      "metadata": {
        "colab": {
          "base_uri": "https://localhost:8080/"
        },
        "id": "PDE-HLbOsrfH",
        "outputId": "c2998da1-0ff1-41cb-9736-098e489b0aff"
      },
      "outputs": [
        {
          "output_type": "stream",
          "name": "stdout",
          "text": [
            "\r0% [Working]\r            \rGet:1 http://ppa.launchpad.net/c2d4u.team/c2d4u4.0+/ubuntu bionic InRelease [15.9 kB]\n",
            "\r0% [Connecting to archive.ubuntu.com (91.189.91.39)] [Connecting to security.ub\r0% [Connecting to archive.ubuntu.com (91.189.91.39)] [Connecting to security.ub\r0% [1 InRelease gpgv 15.9 kB] [Connecting to archive.ubuntu.com (91.189.91.39)]\r                                                                               \rHit:2 http://ppa.launchpad.net/cran/libgit2/ubuntu bionic InRelease\n",
            "\r0% [1 InRelease gpgv 15.9 kB] [Connecting to archive.ubuntu.com (91.189.91.39)]\r                                                                               \rHit:3 http://ppa.launchpad.net/deadsnakes/ppa/ubuntu bionic InRelease\n",
            "\r0% [1 InRelease gpgv 15.9 kB] [Connecting to archive.ubuntu.com (91.189.91.39)]\r                                                                               \rHit:4 http://ppa.launchpad.net/graphics-drivers/ppa/ubuntu bionic InRelease\n",
            "\r0% [1 InRelease gpgv 15.9 kB] [Waiting for headers] [Waiting for headers] [Conn\r                                                                               \rGet:5 http://security.ubuntu.com/ubuntu bionic-security InRelease [88.7 kB]\n",
            "\r0% [1 InRelease gpgv 15.9 kB] [Waiting for headers] [5 InRelease 14.2 kB/88.7 k\r                                                                               \rHit:6 http://archive.ubuntu.com/ubuntu bionic InRelease\n",
            "Get:7 https://cloud.r-project.org/bin/linux/ubuntu bionic-cran40/ InRelease [3,626 B]\n",
            "Get:8 http://archive.ubuntu.com/ubuntu bionic-updates InRelease [88.7 kB]\n",
            "Ign:9 https://developer.download.nvidia.com/compute/machine-learning/repos/ubuntu1804/x86_64  InRelease\n",
            "Get:10 https://developer.download.nvidia.com/compute/cuda/repos/ubuntu1804/x86_64  InRelease [1,581 B]\n",
            "Hit:11 https://developer.download.nvidia.com/compute/machine-learning/repos/ubuntu1804/x86_64  Release\n",
            "Get:12 http://ppa.launchpad.net/c2d4u.team/c2d4u4.0+/ubuntu bionic/main Sources [2,155 kB]\n",
            "Get:13 http://archive.ubuntu.com/ubuntu bionic-backports InRelease [83.3 kB]\n",
            "Get:14 http://ppa.launchpad.net/c2d4u.team/c2d4u4.0+/ubuntu bionic/main amd64 Packages [1,104 kB]\n",
            "Get:15 https://developer.download.nvidia.com/compute/cuda/repos/ubuntu1804/x86_64  Packages [913 kB]\n",
            "Get:17 http://security.ubuntu.com/ubuntu bionic-security/universe amd64 Packages [1,545 kB]\n",
            "Get:18 http://archive.ubuntu.com/ubuntu bionic-updates/main amd64 Packages [3,422 kB]\n",
            "Get:19 http://security.ubuntu.com/ubuntu bionic-security/main amd64 Packages [2,990 kB]\n",
            "Get:20 http://archive.ubuntu.com/ubuntu bionic-updates/universe amd64 Packages [2,322 kB]\n",
            "Get:21 http://archive.ubuntu.com/ubuntu bionic-backports/universe amd64 Packages [20.6 kB]\n",
            "Get:22 http://archive.ubuntu.com/ubuntu bionic-backports/main amd64 Packages [64.0 kB]\n",
            "Fetched 14.8 MB in 4s (3,310 kB/s)\n",
            "Reading package lists... Done\n"
          ]
        }
      ],
      "source": [
        "import os\n",
        "# Find the latest version of spark 3.0 from http://www.apache.org/dist/spark/ and enter as the spark version\n",
        "# For example:\n",
        "# spark_version = 'spark-3.0.3'\n",
        "spark_version = 'spark-3.2.2'\n",
        "os.environ['SPARK_VERSION']=spark_version\n",
        "\n",
        "# Install Spark and Java\n",
        "!apt-get update\n",
        "!apt-get install openjdk-11-jdk-headless -qq > /dev/null\n",
        "!wget -q http://www.apache.org/dist/spark/$SPARK_VERSION/$SPARK_VERSION-bin-hadoop2.7.tgz\n",
        "!tar xf $SPARK_VERSION-bin-hadoop2.7.tgz\n",
        "!pip install -q findspark\n",
        "\n",
        "# Set Environment Variables\n",
        "import os\n",
        "os.environ[\"JAVA_HOME\"] = \"/usr/lib/jvm/java-11-openjdk-amd64\"\n",
        "os.environ[\"SPARK_HOME\"] = f\"/content/{spark_version}-bin-hadoop2.7\"\n",
        "\n",
        "# Start a SparkSession\n",
        "import findspark\n",
        "findspark.init()"
      ]
    },
    {
      "cell_type": "code",
      "source": [
        "# Download the Postgres driver that will allow Spark to interact with Postgres.\n",
        "!wget https://jdbc.postgresql.org/download/postgresql-42.2.16.jar"
      ],
      "metadata": {
        "colab": {
          "base_uri": "https://localhost:8080/"
        },
        "id": "Tmb-C0X1sul2",
        "outputId": "dbe2027f-ab04-4c9c-ea20-709bffc594f5"
      },
      "execution_count": 2,
      "outputs": [
        {
          "output_type": "stream",
          "name": "stdout",
          "text": [
            "--2022-09-26 21:37:35--  https://jdbc.postgresql.org/download/postgresql-42.2.16.jar\n",
            "Resolving jdbc.postgresql.org (jdbc.postgresql.org)... 72.32.157.228, 2001:4800:3e1:1::228\n",
            "Connecting to jdbc.postgresql.org (jdbc.postgresql.org)|72.32.157.228|:443... connected.\n",
            "HTTP request sent, awaiting response... 200 OK\n",
            "Length: 1002883 (979K) [application/java-archive]\n",
            "Saving to: ‘postgresql-42.2.16.jar’\n",
            "\n",
            "postgresql-42.2.16. 100%[===================>] 979.38K  1.69MB/s    in 0.6s    \n",
            "\n",
            "2022-09-26 21:37:37 (1.69 MB/s) - ‘postgresql-42.2.16.jar’ saved [1002883/1002883]\n",
            "\n"
          ]
        }
      ]
    },
    {
      "cell_type": "code",
      "source": [
        "from pyspark.sql import SparkSession\n",
        "spark = SparkSession.builder.appName(\"M16-Amazon-Challenge\").config(\"spark.driver.extraClassPath\",\"/content/postgresql-42.2.16.jar\").getOrCreate()"
      ],
      "metadata": {
        "id": "enWpHrWAsxBn"
      },
      "execution_count": 3,
      "outputs": []
    },
    {
      "cell_type": "code",
      "source": [
        "# Extract the dataset you used in Deliverable 1\n",
        "from pyspark import SparkFiles\n",
        "url = \"https://s3.amazonaws.com/amazon-reviews-pds/tsv/amazon_reviews_us_PC_v1_00.tsv.gz\"\n",
        "spark.sparkContext.addFile(url)\n",
        "df = spark.read.option(\"encoding\", \"UTF-8\").csv(SparkFiles.get(\"amazon_reviews_us_PC_v1_00.tsv.gz\"), sep=\"\\t\", header=True, inferSchema=True)\n",
        "df.show()"
      ],
      "metadata": {
        "colab": {
          "base_uri": "https://localhost:8080/"
        },
        "id": "yiKKhPe_s01N",
        "outputId": "900b30f6-cfce-4b91-97ed-b405ce521b9b"
      },
      "execution_count": 4,
      "outputs": [
        {
          "output_type": "stream",
          "name": "stdout",
          "text": [
            "+-----------+-----------+--------------+----------+--------------+--------------------+----------------+-----------+-------------+-----------+----+-----------------+--------------------+--------------------+-----------+\n",
            "|marketplace|customer_id|     review_id|product_id|product_parent|       product_title|product_category|star_rating|helpful_votes|total_votes|vine|verified_purchase|     review_headline|         review_body|review_date|\n",
            "+-----------+-----------+--------------+----------+--------------+--------------------+----------------+-----------+-------------+-----------+----+-----------------+--------------------+--------------------+-----------+\n",
            "|         US|   22873041|R3ARRMDEGED8RD|B00KJWQIIC|     335625766|Plemo 14-Inch Lap...|              PC|          5|            0|          0|   N|                Y|Pleasantly surprised|I was very surpri...| 2015-08-31|\n",
            "|         US|   30088427| RQ28TSA020Y6J|B013ALA9LA|     671157305|TP-Link OnHub AC1...|              PC|          5|           24|         31|   N|                N|OnHub is a pretty...|I am a Google emp...| 2015-08-31|\n",
            "|         US|   20329786| RUXJRZCT6953M|B00PML2GQ8|     982036237|AmazonBasics USB ...|              PC|          1|            2|          2|   N|                N|None of them work...|Bought cables in ...| 2015-08-31|\n",
            "|         US|   14215710| R7EO0UO6BPB71|B001NS0OZ4|     576587596|Transcend P8 15-i...|              PC|          1|            0|          0|   N|                Y|just keep searching.|nope, cheap and slow| 2015-08-31|\n",
            "|         US|   38264512|R39NJY2YJ1JFSV|B00AQMTND2|     964759214|Aleratec SATA Dat...|              PC|          5|            0|          0|   N|                Y|          Five Stars|Excellent! Great ...| 2015-08-31|\n",
            "|         US|   30548466|R31SR7REWNX7CF|B00KX4TORI|     170101802|Kingston Digital ...|              PC|          5|            0|          0|   N|                Y|Good quality, wor...|Good quality,work...| 2015-08-31|\n",
            "|         US|     589298| RVBP8I1R0CTZ8|B00P17WEMY|     206124740|White 9 Inch Unlo...|              PC|          3|            1|          2|   N|                Y|in fact this is t...|This demn tablet ...| 2015-08-31|\n",
            "|         US|   49329488|R1QF6RS1PDLU18|B00TR05L9Y|     778403103|Lenovo TAB2 A10 -...|              PC|          4|            1|          1|   N|                Y|                Good|I am not sure I d...| 2015-08-31|\n",
            "|         US|   50728290|R23AICGEDAJQL1|B0098Y77OG|     177098042|                Acer|              PC|          1|            0|          0|   N|                Y|You get what you ...|After exactly 45 ...| 2015-08-31|\n",
            "|         US|   37802374|R2EY3N4K9W19UP|B00IFYEYXC|     602496520|AzureWave Broadco...|              PC|          5|            3|          4|   N|                Y|Great for Windows...|Replaced my Intel...| 2015-08-31|\n",
            "|         US|   52027882| RC9AW4HKJ016M|B0091ITP0S|     977217357|HDE Rotating iPad...|              PC|          1|            0|          0|   N|                Y|            One Star|IT HAS ALREADY CR...| 2015-08-31|\n",
            "|         US|   41770239|R2ALWJE9N6ZBXD|B008I21EA2|     295632907|Linksys AC1750 Wi...|              PC|          1|            0|          0|   N|                N|   Very Disappointed|Very disappointed...| 2015-08-31|\n",
            "|         US|   42560427|R2G5FPA4OX37GV|B00MRB7SBO|     922591915|iPad Pro 9.7, iPa...|              PC|          5|            1|          1|   N|                Y|          Five Stars|Works well. I use...| 2015-08-31|\n",
            "|         US|   46345923|R1IKTSEVXSIMOD|B00LLER2CS|     997551273|SanDisk 16GB CZ43...|              PC|          5|            0|          0|   N|                Y|The encryption so...|The encryption so...| 2015-08-31|\n",
            "|         US|   41751192|R2YA6G6SRFEWF6|B00B0CQCCC|     937999925|TRENDnet Wireless...|              PC|          1|            0|          1|   N|                Y|Didn't last 2 years.|I have owned this...| 2015-08-31|\n",
            "|         US|   21176481| RS9H1N9I3Z1IA|B00GU8W5AE|      13865167|Redragon M901 PER...|              PC|          5|            0|          0|   N|                Y|Awesome gaming mouse|My first gaming m...| 2015-08-31|\n",
            "|         US|   10674058| RKKLBI76VTDNT|B00XHMXJQ0|     967483469|Mudder MHL Adapte...|              PC|          1|            0|          0|   N|                Y|            One Star|I cannot get it t...| 2015-08-31|\n",
            "|         US|   43341796|R2NJ3WFUS4E5G6|B00YGJJQ6U|     986548413|Fintie iPad Air 2...|              PC|          4|            0|          0|   N|                Y|Great choices of ...|Love that Finite ...| 2015-08-31|\n",
            "|         US|   13232866|R21PTQNLGCBN0I|B00XMN20Y6|     873354048|Fintie iPad 2/3/4...|              PC|          5|            0|          0|   N|                Y|          Five Stars|Nice color, I lov...| 2015-08-31|\n",
            "|         US|   29333557|R3G4RT3EQ9RSY7|B00MA40W9I|     535866197|Egoway® New Lapto...|              PC|          1|            0|          0|   N|                Y|Totally wasted $6...|Totally wasted $6...| 2015-08-31|\n",
            "+-----------+-----------+--------------+----------+--------------+--------------------+----------------+-----------+-------------+-----------+----+-----------------+--------------------+--------------------+-----------+\n",
            "only showing top 20 rows\n",
            "\n"
          ]
        }
      ]
    },
    {
      "cell_type": "code",
      "source": [
        "# Re-Create the vine_table. DataFrame\n",
        "vine_df = df.select([\"review_id\", \"star_rating\", \"helpful_votes\", \"total_votes\", \"vine\", \"verified_purchase\"])\n",
        "vine_df.show(5)"
      ],
      "metadata": {
        "colab": {
          "base_uri": "https://localhost:8080/"
        },
        "id": "VEMWUiDqs-nH",
        "outputId": "a91012f0-19d3-4757-bebf-8ba2e8de0603"
      },
      "execution_count": 5,
      "outputs": [
        {
          "output_type": "stream",
          "name": "stdout",
          "text": [
            "+--------------+-----------+-------------+-----------+----+-----------------+\n",
            "|     review_id|star_rating|helpful_votes|total_votes|vine|verified_purchase|\n",
            "+--------------+-----------+-------------+-----------+----+-----------------+\n",
            "|R3ARRMDEGED8RD|          5|            0|          0|   N|                Y|\n",
            "| RQ28TSA020Y6J|          5|           24|         31|   N|                N|\n",
            "| RUXJRZCT6953M|          1|            2|          2|   N|                N|\n",
            "| R7EO0UO6BPB71|          1|            0|          0|   N|                Y|\n",
            "|R39NJY2YJ1JFSV|          5|            0|          0|   N|                Y|\n",
            "+--------------+-----------+-------------+-----------+----+-----------------+\n",
            "only showing top 5 rows\n",
            "\n"
          ]
        }
      ]
    },
    {
      "cell_type": "code",
      "source": [
        "from pyspark.sql.functions import round, col\n",
        "# 1. Filter the data and create a new DataFrame or table to retrieve all the rows \n",
        "# where the total_votes count is equal to or greater than 20 to pick reviews\n",
        "# that are more likely to be helpful and to avoid having division by zero errors later on.\n",
        "vine_votes_ge20_df = vine_df.filter(col(\"total_votes\") > 19)\n",
        "vine_votes_ge20_df.show()\n"
      ],
      "metadata": {
        "colab": {
          "base_uri": "https://localhost:8080/"
        },
        "id": "cTY3ZFZitW41",
        "outputId": "23e6e8d7-a231-48f4-d4cb-1e6839f0e1a9"
      },
      "execution_count": 12,
      "outputs": [
        {
          "output_type": "stream",
          "name": "stdout",
          "text": [
            "+--------------+-----------+-------------+-----------+----+-----------------+\n",
            "|     review_id|star_rating|helpful_votes|total_votes|vine|verified_purchase|\n",
            "+--------------+-----------+-------------+-----------+----+-----------------+\n",
            "| RQ28TSA020Y6J|          5|           24|         31|   N|                N|\n",
            "|R25D83AEJRXUWO|          4|           18|         21|   N|                Y|\n",
            "|R35OW0SJPJWAHO|          1|           12|        162|   N|                Y|\n",
            "| RAP2ETU511BOI|          1|            5|         99|   N|                Y|\n",
            "|R1S9O5CCTD61ZD|          1|           45|         71|   N|                N|\n",
            "|R1RMOCWMV8F4VH|          1|            5|         21|   N|                Y|\n",
            "|R351KVE3VO78W9|          3|           36|         42|   N|                Y|\n",
            "| R4LANIHO6EXAH|          4|           35|         35|   N|                Y|\n",
            "|R3V26MZUOWAUA4|          3|           35|         45|   N|                Y|\n",
            "|R38OLNY5GR1PW6|          5|           44|         44|   N|                Y|\n",
            "|R2GK7RJNIAREIT|          1|           30|         32|   N|                Y|\n",
            "|R2OWRP6FXXECMK|          1|           42|         44|   N|                Y|\n",
            "|R260E9JPZZZ01Q|          2|           10|         27|   N|                N|\n",
            "| ROR2FE6Y8EZYG|          5|           19|         22|   N|                Y|\n",
            "|R3LXTGRG4QSBR6|          2|            0|         20|   N|                Y|\n",
            "|R1UWNRDWUZR68D|          3|           60|         60|   N|                Y|\n",
            "| RIJYX8PG45XOB|          5|           51|         52|   N|                Y|\n",
            "|R2WPARQ94X1HCG|          1|            0|         22|   N|                Y|\n",
            "|R24PUIWP0XB411|          1|           27|         27|   N|                Y|\n",
            "| RBYFK3W84LW9F|          2|           32|         37|   N|                Y|\n",
            "+--------------+-----------+-------------+-----------+----+-----------------+\n",
            "only showing top 20 rows\n",
            "\n"
          ]
        }
      ]
    },
    {
      "cell_type": "code",
      "source": [
        "# 2. Filter the new DataFrame or table created in Step 1 and create a new DataFrame or table to retrieve all the rows where the number of helpful_votes divided by total_votes is equal to or greater than 50%.\n",
        "#  - If you use the SQL option below, you’ll need to cast your columns as floats using WHERE CAST(helpful_votes AS FLOAT)/CAST(total_votes AS FLOAT) >=0.5.\n",
        "vine_helpful_ge50pct_df = vine_votes_ge20_df\\\n",
        "                            .withColumn(\"helpful_pct\", round(col(\"helpful_votes\") / col(\"total_votes\"), 2))\\\n",
        "                            .filter(col(\"helpful_pct\") > .4999)\n",
        "vine_helpful_ge50pct_df.show()\n"
      ],
      "metadata": {
        "colab": {
          "base_uri": "https://localhost:8080/"
        },
        "id": "XxC8kqXUtYci",
        "outputId": "66944511-925d-488b-d1ed-01b6af8fe88f"
      },
      "execution_count": 15,
      "outputs": [
        {
          "output_type": "stream",
          "name": "stdout",
          "text": [
            "+--------------+-----------+-------------+-----------+----+-----------------+-----------+\n",
            "|     review_id|star_rating|helpful_votes|total_votes|vine|verified_purchase|helpful_pct|\n",
            "+--------------+-----------+-------------+-----------+----+-----------------+-----------+\n",
            "| RQ28TSA020Y6J|          5|           24|         31|   N|                N|       0.77|\n",
            "|R25D83AEJRXUWO|          4|           18|         21|   N|                Y|       0.86|\n",
            "|R1S9O5CCTD61ZD|          1|           45|         71|   N|                N|       0.63|\n",
            "|R351KVE3VO78W9|          3|           36|         42|   N|                Y|       0.86|\n",
            "| R4LANIHO6EXAH|          4|           35|         35|   N|                Y|        1.0|\n",
            "|R3V26MZUOWAUA4|          3|           35|         45|   N|                Y|       0.78|\n",
            "|R38OLNY5GR1PW6|          5|           44|         44|   N|                Y|        1.0|\n",
            "|R2GK7RJNIAREIT|          1|           30|         32|   N|                Y|       0.94|\n",
            "|R2OWRP6FXXECMK|          1|           42|         44|   N|                Y|       0.95|\n",
            "| ROR2FE6Y8EZYG|          5|           19|         22|   N|                Y|       0.86|\n",
            "|R1UWNRDWUZR68D|          3|           60|         60|   N|                Y|        1.0|\n",
            "| RIJYX8PG45XOB|          5|           51|         52|   N|                Y|       0.98|\n",
            "|R24PUIWP0XB411|          1|           27|         27|   N|                Y|        1.0|\n",
            "| RBYFK3W84LW9F|          2|           32|         37|   N|                Y|       0.86|\n",
            "| RT880ROJ1I4Z5|          5|           22|         31|   N|                N|       0.71|\n",
            "|R2ICLUNZ6A5DXB|          1|           16|         23|   N|                Y|        0.7|\n",
            "|R3H11HIP4SCL9V|          5|           31|         33|   N|                Y|       0.94|\n",
            "| RPG85MPSR10JG|          1|           23|         26|   N|                Y|       0.88|\n",
            "|R2UAVRDG3AUF3K|          5|           14|         21|   N|                N|       0.67|\n",
            "|R2CEZU1K5CVLRL|          1|           17|         22|   N|                Y|       0.77|\n",
            "+--------------+-----------+-------------+-----------+----+-----------------+-----------+\n",
            "only showing top 20 rows\n",
            "\n"
          ]
        }
      ]
    },
    {
      "cell_type": "code",
      "source": [
        "# 3. Filter the DataFrame or table created in Step 2, and create a new DataFrame or table that retrieves all the rows where a review was written as part of the Vine program (paid), vine == 'Y'.\n",
        "vine_paid_eq_Y_df = vine_helpful_ge50pct_df.filter(col(\"vine\") == 'Y')\n",
        "vine_paid_eq_Y_df.show()"
      ],
      "metadata": {
        "colab": {
          "base_uri": "https://localhost:8080/"
        },
        "id": "wIXfCd6btmPD",
        "outputId": "2f2c07eb-c769-435b-b0e0-6ba17e9e0288"
      },
      "execution_count": 16,
      "outputs": [
        {
          "output_type": "stream",
          "name": "stdout",
          "text": [
            "+--------------+-----------+-------------+-----------+----+-----------------+-----------+\n",
            "|     review_id|star_rating|helpful_votes|total_votes|vine|verified_purchase|helpful_pct|\n",
            "+--------------+-----------+-------------+-----------+----+-----------------+-----------+\n",
            "|R3J2DPYUH6453D|          5|          136|        153|   Y|                N|       0.89|\n",
            "|R25QTFLERWK6SJ|          3|          852|        956|   Y|                N|       0.89|\n",
            "|R1BG71K9B61LI1|          4|           39|         39|   Y|                N|        1.0|\n",
            "| R8WGX426U56E0|          5|           19|         21|   Y|                N|        0.9|\n",
            "| R614TCIDD36LE|          4|          131|        147|   Y|                N|       0.89|\n",
            "|R28X5K1OZBQSBK|          5|           25|         28|   Y|                N|       0.89|\n",
            "|R2CUDWKAUWGHIT|          5|           19|         24|   Y|                N|       0.79|\n",
            "| R886ADSI1HBU5|          5|           88|         97|   Y|                N|       0.91|\n",
            "|R3TTJTAND1CCSV|          5|           21|         23|   Y|                N|       0.91|\n",
            "|R1W39WXYWNFJBG|          5|           32|         35|   Y|                N|       0.91|\n",
            "|R18WUOSN0TQD9X|          4|           25|         26|   Y|                N|       0.96|\n",
            "|R2UGZFCPGAI6OP|          5|           19|         21|   Y|                N|        0.9|\n",
            "| R7Y17L4FLYYXN|          4|           23|         30|   Y|                N|       0.77|\n",
            "|R1YEAR1J3MEI3I|          2|          143|        159|   Y|                N|        0.9|\n",
            "|R1FI3ZKOA0RMR9|          5|          145|        164|   Y|                N|       0.88|\n",
            "| RFZQEATC76JDP|          3|           17|         22|   Y|                N|       0.77|\n",
            "|R1LDVLZ6TI5MSX|          3|           18|         27|   Y|                N|       0.67|\n",
            "|R3GNG9SISW41OZ|          5|          143|        153|   Y|                N|       0.93|\n",
            "| RSDDNABYLRGA1|          3|           60|         71|   Y|                N|       0.85|\n",
            "|R2YKR6HFL47R8L|          5|           26|         35|   Y|                N|       0.74|\n",
            "+--------------+-----------+-------------+-----------+----+-----------------+-----------+\n",
            "only showing top 20 rows\n",
            "\n"
          ]
        }
      ]
    },
    {
      "cell_type": "code",
      "source": [
        "# 4. Repeat Step 3, but this time retrieve all the rows where the review was not part of the Vine program (unpaid), vine == 'N'.\n",
        "vine_paid_eq_N_df = vine_helpful_ge50pct_df.filter(col(\"vine\") == 'N')\n",
        "vine_paid_eq_N_df.show()"
      ],
      "metadata": {
        "colab": {
          "base_uri": "https://localhost:8080/"
        },
        "id": "Xy15zcrgtopj",
        "outputId": "df51db24-fd16-46be-8b34-94b0c021ee0e"
      },
      "execution_count": 17,
      "outputs": [
        {
          "output_type": "stream",
          "name": "stdout",
          "text": [
            "+--------------+-----------+-------------+-----------+----+-----------------+-----------+\n",
            "|     review_id|star_rating|helpful_votes|total_votes|vine|verified_purchase|helpful_pct|\n",
            "+--------------+-----------+-------------+-----------+----+-----------------+-----------+\n",
            "| RQ28TSA020Y6J|          5|           24|         31|   N|                N|       0.77|\n",
            "|R25D83AEJRXUWO|          4|           18|         21|   N|                Y|       0.86|\n",
            "|R1S9O5CCTD61ZD|          1|           45|         71|   N|                N|       0.63|\n",
            "|R351KVE3VO78W9|          3|           36|         42|   N|                Y|       0.86|\n",
            "| R4LANIHO6EXAH|          4|           35|         35|   N|                Y|        1.0|\n",
            "|R3V26MZUOWAUA4|          3|           35|         45|   N|                Y|       0.78|\n",
            "|R38OLNY5GR1PW6|          5|           44|         44|   N|                Y|        1.0|\n",
            "|R2GK7RJNIAREIT|          1|           30|         32|   N|                Y|       0.94|\n",
            "|R2OWRP6FXXECMK|          1|           42|         44|   N|                Y|       0.95|\n",
            "| ROR2FE6Y8EZYG|          5|           19|         22|   N|                Y|       0.86|\n",
            "|R1UWNRDWUZR68D|          3|           60|         60|   N|                Y|        1.0|\n",
            "| RIJYX8PG45XOB|          5|           51|         52|   N|                Y|       0.98|\n",
            "|R24PUIWP0XB411|          1|           27|         27|   N|                Y|        1.0|\n",
            "| RBYFK3W84LW9F|          2|           32|         37|   N|                Y|       0.86|\n",
            "| RT880ROJ1I4Z5|          5|           22|         31|   N|                N|       0.71|\n",
            "|R2ICLUNZ6A5DXB|          1|           16|         23|   N|                Y|        0.7|\n",
            "|R3H11HIP4SCL9V|          5|           31|         33|   N|                Y|       0.94|\n",
            "| RPG85MPSR10JG|          1|           23|         26|   N|                Y|       0.88|\n",
            "|R2UAVRDG3AUF3K|          5|           14|         21|   N|                N|       0.67|\n",
            "|R2CEZU1K5CVLRL|          1|           17|         22|   N|                Y|       0.77|\n",
            "+--------------+-----------+-------------+-----------+----+-----------------+-----------+\n",
            "only showing top 20 rows\n",
            "\n"
          ]
        }
      ]
    },
    {
      "cell_type": "code",
      "source": [
        "from pyspark.sql.functions import count, sum, when\n",
        "\n",
        "cnt_cond = lambda cond: sum(when(cond, 1).otherwise(0))\n",
        "\n",
        "# 5. Determine the total number of reviews, the number of 5-star reviews, and the percentage of 5-star reviews for the two types of review (paid vs unpaid).\n",
        "vine_review_totals = vine_helpful_ge50pct_df\\\n",
        "                      .groupBy(\"vine\")\\\n",
        "                      .agg(count(\"star_rating\").alias(\"total_reviews\"), \\\n",
        "                           cnt_cond(col(\"star_rating\") == '5').alias(\"total_5-star\"))\\\n",
        "                      .withColumn(\"5-star_pct\", round(col(\"total_5-star\") / col(\"total_reviews\"), 2))\n",
        "vine_review_totals.show()"
      ],
      "metadata": {
        "colab": {
          "base_uri": "https://localhost:8080/"
        },
        "id": "ywwMDTIvtqqf",
        "outputId": "81b03799-d61c-4cfb-c7d6-7a975cd127aa"
      },
      "execution_count": 29,
      "outputs": [
        {
          "output_type": "stream",
          "name": "stdout",
          "text": [
            "+----+-------------+------------+----------+\n",
            "|vine|total_reviews|total_5-star|5-star_pct|\n",
            "+----+-------------+------------+----------+\n",
            "|   Y|         1775|         783|      0.44|\n",
            "|   N|        77387|       35949|      0.46|\n",
            "+----+-------------+------------+----------+\n",
            "\n"
          ]
        }
      ]
    }
  ]
}